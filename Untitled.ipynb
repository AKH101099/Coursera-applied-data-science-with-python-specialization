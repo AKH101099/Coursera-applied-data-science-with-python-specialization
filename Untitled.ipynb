{
 "cells": [
  {
   "cell_type": "code",
   "execution_count": null,
   "metadata": {},
   "outputs": [],
   "source": [
    "import matplotlib as mpl\n",
    "\n",
    "def update(curr):    \n",
    "    curr = curr*50\n",
    "    if curr >= n:\n",
    "        a.event_source.stop()   \n",
    "    for i in range(0,len(subplots)):\n",
    "        \n",
    "        subplots[i].cla()\n",
    "        subplots[i].axis(axis[i])    \n",
    "        subplots[i].hist(distributions[i][:curr], normed = True, bins = binlist[i]/2)          \n",
    "        subplots[i].set_title('{}'.format(Legend[i][2:]+' distribution'), fontsize = 12)\n",
    "        subplots[i].annotate(' n = {}'.format(curr), [axis[i][1], 0.5], fontsize = 8)\n",
    "        subplots[i].set_ylabel('Frequency', fontsize = 10)\n",
    "        subplots[i].set_xlabel('Value', fontsize = 10)\n",
    "        subplots[i].xaxis.set_tick_params(labelsize=8)\n",
    "        subplots[i].yaxis.set_tick_params(labelsize=8)\n",
    "    plt.subplots_adjust(left=None, bottom=None, right=None, top=None,\n",
    "                wspace=0.5, hspace=0.7) \n",
    "\n",
    "mpl.use('Agg')\n",
    "mpl.rcParams['animation.ffmpeg_path'] = \"C:\\Program Files\\ImageMagick-6.9.9-Q8\\ffmpeg.exe\"\n",
    "# For Imagemagick 7.0, convert.exe is replaced by magick.exe\n",
    "mpl.rcParams['animation.convert_path'] = \"C:\\Program Files\\ImageMagick-6.9.9-Q8\\magick.exe\"  #/  \n",
    "    \n",
    "a = animation.FuncAnimation(fig, update, interval=100, blit=True)        \n",
    "\n",
    "a.save('Aanimation.gif', writer='imagemagick', fps=4)\n",
    "a"
   ]
  }
 ],
 "metadata": {
  "kernelspec": {
   "display_name": "Python 3",
   "language": "python",
   "name": "python3"
  },
  "language_info": {
   "codemirror_mode": {
    "name": "ipython",
    "version": 3
   },
   "file_extension": ".py",
   "mimetype": "text/x-python",
   "name": "python",
   "nbconvert_exporter": "python",
   "pygments_lexer": "ipython3",
   "version": "3.6.4"
  }
 },
 "nbformat": 4,
 "nbformat_minor": 2
}
