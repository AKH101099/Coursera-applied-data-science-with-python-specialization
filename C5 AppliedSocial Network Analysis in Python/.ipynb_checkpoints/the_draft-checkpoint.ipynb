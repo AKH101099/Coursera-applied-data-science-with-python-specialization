{
 "cells": [
  {
   "cell_type": "markdown",
   "metadata": {},
   "source": [
    "## Week 1"
   ]
  },
  {
   "cell_type": "code",
   "execution_count": 11,
   "metadata": {},
   "outputs": [
    {
     "name": "stdout",
     "output_type": "stream",
     "text": [
      "{'role': 'manager'}\n"
     ]
    }
   ],
   "source": [
    "import networkx as nx\n",
    "\n",
    "G=nx.MultiGraph()\n",
    "G.add_node('A',role='manager')\n",
    "G.add_edge('A','B',relation = 'friend')\n",
    "G.add_edge('A','C', relation = 'business partner')\n",
    "G.add_edge('A','B', relation = 'classmate')\n",
    "G.node['A']['role'] = 'team member'\n",
    "G.node['B']['role'] = 'engineer'\n",
    "\n",
    "print(G.node['A'])"
   ]
  },
  {
   "cell_type": "code",
   "execution_count": 64,
   "metadata": {},
   "outputs": [],
   "source": [
    "# networkx==2.2"
   ]
  },
  {
   "cell_type": "markdown",
   "metadata": {},
   "source": [
    "### 1.1 Networks: definition and why we study them"
   ]
  },
  {
   "cell_type": "markdown",
   "metadata": {},
   "source": [
    "### 1.2. Network Definition and Vocabulary"
   ]
  },
  {
   "cell_type": "code",
   "execution_count": 1,
   "metadata": {},
   "outputs": [],
   "source": [
    "import networkx as nx"
   ]
  },
  {
   "cell_type": "code",
   "execution_count": 2,
   "metadata": {},
   "outputs": [],
   "source": [
    "G = nx.Graph() \n",
    "G.add_edge(\"A\",\"B\")\n",
    "G.add_edge(\"B\",\"C\")"
   ]
  },
  {
   "cell_type": "code",
   "execution_count": 3,
   "metadata": {},
   "outputs": [],
   "source": [
    "#directed graph\n",
    "G = nx.DiGraph()\n",
    "G.add_edge(\"B\", \"A\")\n",
    "G.add_edge(\"D\", \"B\")"
   ]
  },
  {
   "cell_type": "code",
   "execution_count": 4,
   "metadata": {},
   "outputs": [],
   "source": [
    "# weighted network\n",
    "G = nx.Graph()\n",
    "G.add_edge(\"A\", \"B\", weight = 12)\n",
    "G.add_edge(\"D\", \"C\", weight = 15)"
   ]
  },
  {
   "cell_type": "code",
   "execution_count": 5,
   "metadata": {},
   "outputs": [],
   "source": [
    "# signed network\n",
    "G = nx.Graph()\n",
    "G.add_edge(\"A\", \"B\", sign = '-')\n",
    "G.add_edge(\"D\", \"C\", sign = '+')"
   ]
  },
  {
   "cell_type": "code",
   "execution_count": 6,
   "metadata": {},
   "outputs": [],
   "source": [
    "# relation network\n",
    "G = nx.Graph()\n",
    "G.add_edge(\"A\", \"B\", relation = 'Friend')"
   ]
  },
  {
   "cell_type": "code",
   "execution_count": 25,
   "metadata": {},
   "outputs": [
    {
     "data": {
      "text/plain": [
       "1"
      ]
     },
     "execution_count": 25,
     "metadata": {},
     "output_type": "execute_result"
    }
   ],
   "source": [
    "# multi graph\n",
    "G = nx.MultiGraph()\n",
    "G.add_edge(\"A\", \"B\", relation = 'Friend')\n",
    "G.add_edge(\"A\", \"B\", relation = 'Classmate')"
   ]
  },
  {
   "cell_type": "markdown",
   "metadata": {},
   "source": [
    "### 1.3 Node and Edge Attributes"
   ]
  },
  {
   "cell_type": "code",
   "execution_count": 45,
   "metadata": {
    "scrolled": true
   },
   "outputs": [
    {
     "name": "stdout",
     "output_type": "stream",
     "text": [
      "[('A', 'B', {'weight': 20, 'relation': 'Friends'})]\n",
      "[('A', 'B', 'Friends')]\n"
     ]
    }
   ],
   "source": [
    "G = nx.Graph()\n",
    "G.add_edge('A', 'B', weight = 20, relation = 'Friends')\n",
    "G.edges() # gives list of all network edges\n",
    "\n",
    "print(G.edges(data=True)) # list of all edges with attributes\n",
    "print(G.edges(data='relation')) # list of all edges with attribute = 'relation'"
   ]
  },
  {
   "cell_type": "code",
   "execution_count": 24,
   "metadata": {},
   "outputs": [
    {
     "data": {
      "text/plain": [
       "OutEdgeDataView([('B', 'A', None)])"
      ]
     },
     "execution_count": 24,
     "metadata": {},
     "output_type": "execute_result"
    }
   ],
   "source": [
    "# access to attributes of a specific edge:\n",
    "G = nx.DiGraph() #directed graph\n",
    "G.add_edge(\"B\", \"A\")\n",
    "G.edges('B', 'A')"
   ]
  },
  {
   "cell_type": "code",
   "execution_count": 40,
   "metadata": {},
   "outputs": [
    {
     "name": "stdout",
     "output_type": "stream",
     "text": [
      "{0: {'weight': 6, 'relation': 'family'}, 1: {'weight': 13, 'relation': 'friend'}}\n",
      "6\n"
     ]
    }
   ],
   "source": [
    "G = nx.MultiDiGraph()\n",
    "G.add_edge('A', 'B', weight = 6, relation = 'family')\n",
    "G.add_edge('A', 'B', weight = 13, relation = 'friend')\n",
    "G.add_edge('C', 'B', weight = 8, relation = 'friend')\n",
    "\n",
    "print(G['A']['B']) # list of all edges between AB\n",
    "print(G['A']['B'][0]['weight']) # weight of 0 edge between AB"
   ]
  },
  {
   "cell_type": "code",
   "execution_count": 44,
   "metadata": {},
   "outputs": [
    {
     "name": "stdout",
     "output_type": "stream",
     "text": [
      "['A', 'B', 'C']\n",
      "[('A', {'role': 'trader'}), ('B', {}), ('C', {})]\n",
      "trader\n"
     ]
    }
   ],
   "source": [
    "# adding Node attributes:\n",
    "G.add_node('A', role = 'elf-trader')\n",
    "G.add_node('A', role = 'trader')\n",
    "\n",
    "print(G.nodes()) # list of all nodes\n",
    "print(G.nodes(data=True)) # list of all nodes with attributes\n",
    "print(G.node['A']['role']) # role of node A"
   ]
  },
  {
   "cell_type": "markdown",
   "metadata": {},
   "source": [
    "### 1.4 Bipartite Graphs (двудольные графы)"
   ]
  },
  {
   "cell_type": "code",
   "execution_count": 48,
   "metadata": {},
   "outputs": [],
   "source": [
    "# Bipartite Graph: a graph whose nodes can be split\n",
    "# into two sets L and R and \n",
    "# every edge connects an node in L with a node in R"
   ]
  },
  {
   "cell_type": "code",
   "execution_count": 63,
   "metadata": {},
   "outputs": [
    {
     "name": "stdout",
     "output_type": "stream",
     "text": [
      "True\n",
      "False\n",
      "True\n"
     ]
    }
   ],
   "source": [
    "from networkx.algorithms import bipartite\n",
    "\n",
    "B = nx.Graph()\n",
    "B.add_nodes_from(['A', 'B', 'C', 'D', 'E'], bipartite=0)\n",
    "B.add_nodes_from([1,2,3,4], bipartite=1)\n",
    "B.add_edges_from([('A',1), ('B',1), ('C',1),\n",
    "                  ('C',3), ('D',2), ('E',3), ('E',4)])\n",
    "print(bipartite.is_bipartite(B))\n",
    "B.add_edge('A', 'B')\n",
    "print(bipartite.is_bipartite(B))\n",
    "B.remove_edge('A', 'B')\n",
    "print(bipartite.is_bipartite(B))\n",
    "#https://networkx.github.io/documentation/stable/reference/algorithms/bipartite.html"
   ]
  },
  {
   "cell_type": "code",
   "execution_count": null,
   "metadata": {},
   "outputs": [],
   "source": [
    "#L-Bipartite graph projection\n",
    "#R-Bipartite graph projection\n",
    "#L-Bipartite weighted graph projection\n",
    "#R-Bipartite weighted graph projection"
   ]
  },
  {
   "cell_type": "code",
   "execution_count": 67,
   "metadata": {},
   "outputs": [],
   "source": [
    "B = nx.Graph()\n",
    "B.add_edges_from([('A',1),('B',1),('C',1),('D',1),('H',1),('B',2)])\n",
    "X = set(['A','B','C','D'])\n",
    "p = bipartite.projected_graph(B,X)\n",
    "#bipartite.weighted_projected_graph"
   ]
  },
  {
   "cell_type": "code",
   "execution_count": 71,
   "metadata": {
    "scrolled": true
   },
   "outputs": [
    {
     "name": "stdout",
     "output_type": "stream",
     "text": [
      "[('E', 'C', {'weight': 1}), ('E', 'A', {'weight': 1}), ('B', 'D', {'weight': 1}), ('F', 'C', {'weight': 1}), ('F', 'A', {'weight': 1}), ('C', 'A', {'weight': 2})]\n",
      "{'weight': 2}\n"
     ]
    }
   ],
   "source": [
    "#Use NetworkX to construct the bipartite weighted\n",
    "#graph projection of nodes A,B,C,D,E,F \n",
    "#and find the weight of the edge (A,C).\n",
    "\n",
    "#What is the weight of the edge (A,C)?\n",
    "\n",
    "import networkx as nx\n",
    "from networkx.algorithms import bipartite\n",
    "\n",
    "B = nx.Graph()\n",
    "B.add_edges_from([('A', 'G'),('A','I'), ('B','H'), ('C', 'G'), ('C', 'I'),('D', 'H'), ('E', 'I'), ('F', 'G'), ('F', 'J')])\n",
    "X1 = set(['A', 'B', 'C', 'D', 'E', 'F'])\n",
    "Weightedp = bipartite.weighted_projected_graph(B, X1)\n",
    "\n",
    "print(Weightedp.edges(data=True))\n",
    "print(Weightedp['A']['C'])"
   ]
  },
  {
   "cell_type": "markdown",
   "metadata": {},
   "source": [
    "### W1 summary:"
   ]
  },
  {
   "cell_type": "markdown",
   "metadata": {},
   "source": [
    "```\n",
    "nx.bipartite.is_bipartite(B)\n",
    "bipartite.is_bipartite_node_set(B,X)\n",
    "bipartite.sets(B)\n",
    "bipartite.projected_graph(B,X)\n",
    "bipartite.weigthed_projected_graph(B,x)\n",
    "```"
   ]
  }
 ],
 "metadata": {
  "kernelspec": {
   "display_name": "Python 3",
   "language": "python",
   "name": "python3"
  },
  "language_info": {
   "codemirror_mode": {
    "name": "ipython",
    "version": 3
   },
   "file_extension": ".py",
   "mimetype": "text/x-python",
   "name": "python",
   "nbconvert_exporter": "python",
   "pygments_lexer": "ipython3",
   "version": "3.7.3"
  }
 },
 "nbformat": 4,
 "nbformat_minor": 2
}
